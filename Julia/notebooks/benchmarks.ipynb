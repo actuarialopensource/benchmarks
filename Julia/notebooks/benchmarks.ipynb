{
 "cells": [
  {
   "cell_type": "code",
   "execution_count": 1,
   "metadata": {},
   "outputs": [
    {
     "name": "stderr",
     "output_type": "stream",
     "text": [
      "\u001b[32m\u001b[1m    CondaPkg \u001b[22m\u001b[39m\u001b[0mFound dependencies: /home/serenity4/.julia/dev/benchmarks/Julia/notebooks/CondaPkg.toml\n"
     ]
    },
    {
     "name": "stderr",
     "output_type": "stream",
     "text": [
      "\u001b[32m\u001b[1m    CondaPkg \u001b[22m\u001b[39m\u001b[0mFound dependencies: /home/serenity4/.julia/packages/PythonCall/qTEA1/CondaPkg.toml\n"
     ]
    },
    {
     "name": "stderr",
     "output_type": "stream",
     "text": [
      "\u001b[32m\u001b[1m    CondaPkg \u001b[22m\u001b[39m\u001b[0mResolving changes\n"
     ]
    },
    {
     "name": "stderr",
     "output_type": "stream",
     "text": [
      "\u001b[32m\u001b[1m             \u001b[22m\u001b[39m\u001b[32m+ jax\u001b[39m\n"
     ]
    },
    {
     "name": "stderr",
     "output_type": "stream",
     "text": [
      "\u001b[32m\u001b[1m             \u001b[22m\u001b[39m\u001b[32m+ jaxlib\u001b[39m\n"
     ]
    },
    {
     "name": "stderr",
     "output_type": "stream",
     "text": [
      "\u001b[32m\u001b[1m             \u001b[22m\u001b[39m\u001b[32m+ jaxtyping\u001b[39m\n"
     ]
    },
    {
     "name": "stderr",
     "output_type": "stream",
     "text": [
      "\u001b[32m\u001b[1m             \u001b[22m\u001b[39m\u001b[32m+ lifelib (pip)\u001b[39m\n"
     ]
    },
    {
     "name": "stderr",
     "output_type": "stream",
     "text": [
      "\u001b[32m\u001b[1m             \u001b[22m\u001b[39m\u001b[32m+ modelx\u001b[39m\n"
     ]
    },
    {
     "name": "stderr",
     "output_type": "stream",
     "text": [
      "\u001b[32m\u001b[1m             \u001b[22m\u001b[39m\u001b[32m+ numpy\u001b[39m\n"
     ]
    },
    {
     "name": "stderr",
     "output_type": "stream",
     "text": [
      "\u001b[32m\u001b[1m             \u001b[22m\u001b[39m\u001b[32m+ openpyxl\u001b[39m\n"
     ]
    },
    {
     "name": "stderr",
     "output_type": "stream",
     "text": [
      "\u001b[32m\u001b[1m             \u001b[22m\u001b[39m\u001b[32m+ pandas\u001b[39m\n"
     ]
    },
    {
     "name": "stderr",
     "output_type": "stream",
     "text": [
      "\u001b[32m\u001b[1m             \u001b[22m\u001b[39m\u001b[32m+ pip\u001b[39m\n"
     ]
    },
    {
     "name": "stderr",
     "output_type": "stream",
     "text": [
      "\u001b[32m\u001b[1m             \u001b[22m\u001b[39m\u001b[32m+ pymort (pip)\u001b[39m\n"
     ]
    },
    {
     "name": "stderr",
     "output_type": "stream",
     "text": [
      "\u001b[32m\u001b[1m             \u001b[22m\u001b[39m\u001b[32m+ pyyaml\u001b[39m\n"
     ]
    },
    {
     "name": "stderr",
     "output_type": "stream",
     "text": [
      "\u001b[32m\u001b[1m    CondaPkg \u001b[22m\u001b[39m\u001b[0mInstalling packages\n"
     ]
    },
    {
     "name": "stderr",
     "output_type": "stream",
     "text": [
      "\u001b[32m\u001b[1m             \u001b[22m\u001b[39m│ \u001b[90m/home/serenity4/.julia/artifacts/87052ac9aec71548f804b30280151288cb1ed40e/bin/micromamba\u001b[39m\n"
     ]
    },
    {
     "name": "stderr",
     "output_type": "stream",
     "text": [
      "\u001b[32m\u001b[1m             \u001b[22m\u001b[39m│ \u001b[90m-r /home/serenity4/.julia/scratchspaces/0b3b1443-0f03-428d-bdfb-f27f9c1191ea/root\u001b[39m\n"
     ]
    },
    {
     "name": "stderr",
     "output_type": "stream",
     "text": [
      "\u001b[32m\u001b[1m             \u001b[22m\u001b[39m│ \u001b[90minstall\u001b[39m\n"
     ]
    },
    {
     "name": "stderr",
     "output_type": "stream",
     "text": [
      "\u001b[32m\u001b[1m             \u001b[22m\u001b[39m│ \u001b[90m-y\u001b[39m\n"
     ]
    },
    {
     "name": "stderr",
     "output_type": "stream",
     "text": [
      "\u001b[32m\u001b[1m             \u001b[22m\u001b[39m│ \u001b[90m-p /home/serenity4/.julia/dev/benchmarks/Julia/notebooks/.CondaPkg/env\u001b[39m\n"
     ]
    },
    {
     "name": "stderr",
     "output_type": "stream",
     "text": [
      "\u001b[32m\u001b[1m             \u001b[22m\u001b[39m│ \u001b[90m--override-channels\u001b[39m\n"
     ]
    },
    {
     "name": "stderr",
     "output_type": "stream",
     "text": [
      "\u001b[32m\u001b[1m             \u001b[22m\u001b[39m│ \u001b[90m--no-channel-priority\u001b[39m\n"
     ]
    },
    {
     "name": "stderr",
     "output_type": "stream",
     "text": [
      "\u001b[32m\u001b[1m             \u001b[22m\u001b[39m│ \u001b[90mjax[version='0.4.8']\u001b[39m\n"
     ]
    },
    {
     "name": "stderr",
     "output_type": "stream",
     "text": [
      "\u001b[32m\u001b[1m             \u001b[22m\u001b[39m│ \u001b[90mjaxlib[version='0.4.7']\u001b[39m\n"
     ]
    },
    {
     "name": "stderr",
     "output_type": "stream",
     "text": [
      "\u001b[32m\u001b[1m             \u001b[22m\u001b[39m│ \u001b[90mjaxtyping[version='0.2.15']\u001b[39m\n"
     ]
    },
    {
     "name": "stderr",
     "output_type": "stream",
     "text": [
      "\u001b[32m\u001b[1m             \u001b[22m\u001b[39m│ \u001b[90mlibstdcxx-ng[version='>=3.4,<13.0',channel='conda-forge']\u001b[39m\n"
     ]
    },
    {
     "name": "stderr",
     "output_type": "stream",
     "text": [
      "\u001b[32m\u001b[1m             \u001b[22m\u001b[39m│ \u001b[90mmodelx[version='0.21.0']\u001b[39m\n"
     ]
    },
    {
     "name": "stderr",
     "output_type": "stream",
     "text": [
      "\u001b[32m\u001b[1m             \u001b[22m\u001b[39m│ \u001b[90mnumpy[version='1.24.2']\u001b[39m\n"
     ]
    },
    {
     "name": "stderr",
     "output_type": "stream",
     "text": [
      "\u001b[32m\u001b[1m             \u001b[22m\u001b[39m│ \u001b[90mopenpyxl[version='3.1.2']\u001b[39m\n"
     ]
    },
    {
     "name": "stderr",
     "output_type": "stream",
     "text": [
      "\u001b[32m\u001b[1m             \u001b[22m\u001b[39m│ \u001b[90mpandas[version='1.5.3']\u001b[39m\n"
     ]
    },
    {
     "name": "stderr",
     "output_type": "stream",
     "text": [
      "\u001b[32m\u001b[1m             \u001b[22m\u001b[39m│ \u001b[90mpip[version='>=22.0.0']\u001b[39m\n"
     ]
    },
    {
     "name": "stderr",
     "output_type": "stream",
     "text": [
      "\u001b[32m\u001b[1m             \u001b[22m\u001b[39m│ \u001b[90mpython[version='>=3.7,<4',channel='conda-forge',build='*cpython*']\u001b[39m\n"
     ]
    },
    {
     "name": "stderr",
     "output_type": "stream",
     "text": [
      "\u001b[32m\u001b[1m             \u001b[22m\u001b[39m│ \u001b[90mpyyaml[version='6.0']\u001b[39m\n"
     ]
    },
    {
     "name": "stderr",
     "output_type": "stream",
     "text": [
      "\u001b[32m\u001b[1m             \u001b[22m\u001b[39m└ \u001b[90m-c conda-forge\u001b[39m\n"
     ]
    },
    {
     "name": "stdout",
     "output_type": "stream",
     "text": [
      "\n",
      "Transaction\n",
      "\n",
      "  Prefix: /home/serenity4/.julia/dev/benchmarks/Julia/notebooks/.CondaPkg/env\n",
      "\n",
      "  Updating specs:\n",
      "\n",
      "   - jax==0.4.8\n",
      "   - jaxlib==0.4.7\n",
      "   - jaxtyping==0.2.15\n",
      "   - conda-forge::libstdcxx-ng[version='>=3.4,<13.0']\n",
      "   - modelx==0.21.0\n",
      "   - numpy==1.24.2\n",
      "   - openpyxl==3.1.2\n",
      "   - pandas==1.5.3\n",
      "   - pip[version='>=22.0.0']\n",
      "   - conda-forge::python[version='>=3.7,<4',build=*cpython*]\n",
      "   - pyyaml==6.0\n",
      "\n",
      "\n",
      "  Package                  Version  Build                     Channel           Size\n",
      "──────────────────────────────────────────────────────────────────────────────────────\n",
      "  Install:\n",
      "──────────────────────────────────────────────────────────────────────────────────────\n",
      "\n",
      "  + libgfortran5            13.1.0  h15d22d2_0                conda-forge     Cached\n",
      "  + python_abi                3.11  3_cp311                   conda-forge     Cached\n",
      "  + zlib                    1.2.13  hd590300_5                conda-forge     Cached\n",
      "  + yaml                     0.2.5  h7f98852_2                conda-forge     Cached\n",
      "  + c-ares                  1.19.1  hd590300_0                conda-forge     Cached\n",
      "  + libprotobuf            3.21.12  hfc55251_1                conda-forge     Cached\n",
      "  + re2                 2023.02.02  hcb278e6_0                conda-forge     Cached\n",
      "  + libabseil           20230125.0  cxx17_hcb278e6_1          conda-forge     Cached\n",
      "  + cudatoolkit             11.8.0  h4ba93d1_12               conda-forge     Cached\n",
      "  + libgfortran-ng          13.1.0  h69a702a_0                conda-forge     Cached\n",
      "  + brotli-python            1.0.9  py311ha362b79_9           conda-forge     Cached\n",
      "  + pyyaml                     6.0  py311hd4cff14_5           conda-forge     Cached\n",
      "  + libgrpc                 1.54.2  hcf146ea_0                conda-forge     Cached\n",
      "  + libopenblas             0.3.23  pthreads_h80387f5_0       conda-forge     Cached\n",
      "  + libblas                  3.9.0  17_linux64_openblas       conda-forge     Cached\n",
      "  + libcblas                 3.9.0  17_linux64_openblas       conda-forge     Cached\n",
      "  + liblapack                3.9.0  17_linux64_openblas       conda-forge     Cached\n",
      "  + numpy                   1.24.2  py311h8e6699e_0           conda-forge     Cached\n",
      "  + ml_dtypes                0.2.0  py311h320fe9a_1           conda-forge     Cached\n",
      "  + cuda-version              11.8  h70ddcb2_2                conda-forge     Cached\n",
      "  + charset-normalizer       3.2.0  pyhd8ed1ab_0              conda-forge     Cached\n",
      "  + pysocks                  1.7.1  pyha2e5f31_6              conda-forge     Cached\n",
      "  + idna                       3.4  pyhd8ed1ab_0              conda-forge     Cached\n",
      "  + certifi              2023.7.22  pyhd8ed1ab_0              conda-forge     Cached\n",
      "  + six                     1.16.0  pyh6c4a22f_0              conda-forge     Cached\n",
      "  + zipp                    3.16.2  pyhd8ed1ab_0              conda-forge     Cached\n",
      "  + packaging                 23.1  pyhd8ed1ab_0              conda-forge     Cached\n",
      "  + et_xmlfile               1.1.0  pyhd8ed1ab_0              conda-forge     Cached\n",
      "  + pytz                    2023.3  pyhd8ed1ab_0              conda-forge     Cached\n",
      "  + networkx                   3.1  pyhd8ed1ab_0              conda-forge     Cached\n",
      "  + typing_extensions        4.7.1  pyha770c72_0              conda-forge     Cached\n",
      "  + opt_einsum               3.3.0  pyhd8ed1ab_1              conda-forge     Cached\n",
      "  + urllib3                  2.0.4  pyhd8ed1ab_0              conda-forge     Cached\n",
      "  + python-dateutil          2.8.2  pyhd8ed1ab_0              conda-forge     Cached\n",
      "  + asttokens                2.2.1  pyhd8ed1ab_0              conda-forge     Cached\n",
      "  + importlib-metadata       6.8.0  pyha770c72_0              conda-forge     Cached\n",
      "  + typing-extensions        4.7.1  hd8ed1ab_0                conda-forge     Cached\n",
      "  + requests                2.31.0  pyhd8ed1ab_0              conda-forge     Cached\n",
      "  + modelx                  0.21.0  pyhd8ed1ab_0              conda-forge     Cached\n",
      "  + importlib_metadata       6.8.0  hd8ed1ab_0                conda-forge     Cached\n",
      "  + platformdirs            3.10.0  pyhd8ed1ab_0              conda-forge     Cached\n",
      "  + typeguard                4.1.3  pyhd8ed1ab_0              conda-forge     Cached\n",
      "  + pooch                    1.7.0  pyha770c72_3              conda-forge     Cached\n",
      "  + jaxtyping               0.2.15  pyhd8ed1ab_0              conda-forge     Cached\n",
      "  + nccl                  2.18.5.1  h0800d71_0                conda-forge     Cached\n",
      "  + cudnn                8.8.0.121  h838ba91_2                conda-forge     Cached\n",
      "  + openpyxl                 3.1.2  py311h459d7ec_0           conda-forge     Cached\n",
      "  + pandas                   1.5.3  py311h2872171_1           conda-forge     Cached\n",
      "  + scipy                   1.11.2  py311h64a7726_0           conda-forge     Cached\n",
      "  + jaxlib                   0.4.7  cuda112py311h7d292f2_200  conda-forge     Cached\n",
      "  + jax                      0.4.8  pyhd8ed1ab_0              conda-forge     Cached\n",
      "\n",
      "  Reinstall:\n",
      "──────────────────────────────────────────────────────────────────────────────────────\n",
      "\n",
      "  o libstdcxx-ng            12.3.0  h0f45ef3_0                conda-forge     Cached\n",
      "  o python                  3.11.5  hab00c5b_0_cpython        conda-forge     Cached\n",
      "\n",
      "  Summary:\n",
      "\n",
      "  Install: 51 packages\n",
      "  Reinstall: 2 packages\n",
      "\n",
      "  Total download: 0 B\n",
      "\n",
      "──────────────────────────────────────────────────────────────────────────────────────\n",
      "\n",
      "\n",
      "\n",
      "Transaction starting\n",
      "Reinstalling libstdcxx-ng-12.3.0-h0f45ef3_0\n",
      "Reinstalling python-3.11.5-hab00c5b_0_cpython\n"
     ]
    },
    {
     "name": "stdout",
     "output_type": "stream",
     "text": [
      "Linking libgfortran5-13.1.0-h15d22d2_0\n",
      "Linking python_abi-3.11-3_cp311\n",
      "Linking zlib-1.2.13-hd590300_5\n",
      "Linking yaml-0.2.5-h7f98852_2\n",
      "Linking c-ares-1.19.1-hd590300_0\n",
      "Linking libprotobuf-3.21.12-hfc55251_1\n",
      "Linking re2-2023.02.02-hcb278e6_0\n",
      "Linking libabseil-20230125.0-cxx17_hcb278e6_1\n",
      "Linking cudatoolkit-11.8.0-h4ba93d1_12\n"
     ]
    },
    {
     "name": "stdout",
     "output_type": "stream",
     "text": [
      "By downloading and using the CUDA Toolkit conda packages, you accept the terms and conditions of the CUDA End User License Agreement (EULA): https://docs.nvidia.com/cuda/eula/index.html\n",
      "By downloading and using the cuDNN conda packages, you accept the terms and conditions of the NVIDIA cuDNN EULA -\n",
      "  https://docs.nvidia.com/deeplearning/cudnn/sla/index.html\n",
      "By downloading and using the CUDA Toolkit conda packages, you accept the terms and conditions of the CUDA End User License Agreement (EULA): https://docs.nvidia.com/cuda/eula/index.html\n",
      "\n",
      "Linking libgfortran-ng-13.1.0-h69a702a_0\n",
      "Linking brotli-python-1.0.9-py311ha362b79_9\n",
      "Linking pyyaml-6.0-py311hd4cff14_5\n",
      "Linking libgrpc-1.54.2-hcf146ea_0\n",
      "Linking libopenblas-0.3.23-pthreads_h80387f5_0\n",
      "Linking libblas-3.9.0-17_linux64_openblas\n"
     ]
    },
    {
     "name": "stdout",
     "output_type": "stream",
     "text": [
      "Linking libcblas-3.9.0-17_linux64_openblas\n",
      "Linking liblapack-3.9.0-17_linux64_openblas\n"
     ]
    },
    {
     "name": "stdout",
     "output_type": "stream",
     "text": [
      "Linking numpy-1.24.2-py311h8e6699e_0\n",
      "Linking ml_dtypes-0.2.0-py311h320fe9a_1\n",
      "Linking cuda-version-11.8-h70ddcb2_2\n",
      "Linking charset-normalizer-3.2.0-pyhd8ed1ab_0\n",
      "Linking pysocks-1.7.1-pyha2e5f31_6\n",
      "Linking idna-3.4-pyhd8ed1ab_0\n",
      "Linking certifi-2023.7.22-pyhd8ed1ab_0\n",
      "Linking six-1.16.0-pyh6c4a22f_0\n",
      "Linking zipp-3.16.2-pyhd8ed1ab_0\n",
      "Linking packaging-23.1-pyhd8ed1ab_0\n",
      "Linking et_xmlfile-1.1.0-pyhd8ed1ab_0\n",
      "Linking pytz-2023.3-pyhd8ed1ab_0\n"
     ]
    },
    {
     "name": "stdout",
     "output_type": "stream",
     "text": [
      "Linking networkx-3.1-pyhd8ed1ab_0\n",
      "Linking typing_extensions-4.7.1-pyha770c72_0\n",
      "Linking opt_einsum-3.3.0-pyhd8ed1ab_1\n",
      "Linking urllib3-2.0.4-pyhd8ed1ab_0\n",
      "Linking python-dateutil-2.8.2-pyhd8ed1ab_0\n",
      "Linking asttokens-2.2.1-pyhd8ed1ab_0\n",
      "Linking importlib-metadata-6.8.0-pyha770c72_0\n",
      "Linking typing-extensions-4.7.1-hd8ed1ab_0\n",
      "Linking requests-2.31.0-pyhd8ed1ab_0\n",
      "Linking modelx-0.21.0-pyhd8ed1ab_0\n",
      "Linking importlib_metadata-6.8.0-hd8ed1ab_0\n",
      "Linking platformdirs-3.10.0-pyhd8ed1ab_0\n",
      "Linking typeguard-4.1.3-pyhd8ed1ab_0\n",
      "Linking pooch-1.7.0-pyha770c72_3\n",
      "Linking jaxtyping-0.2.15-pyhd8ed1ab_0\n",
      "Linking nccl-2.18.5.1-h0800d71_0\n",
      "Linking cudnn-8.8.0.121-h838ba91_2\n"
     ]
    },
    {
     "name": "stdout",
     "output_type": "stream",
     "text": [
      "By downloading and using the CUDA Toolkit conda packages, you accept the terms and conditions of the CUDA End User License Agreement (EULA): https://docs.nvidia.com/cuda/eula/index.html\n",
      "By downloading and using the cuDNN conda packages, you accept the terms and conditions of the NVIDIA cuDNN EULA -\n",
      "  https://docs.nvidia.com/deeplearning/cudnn/sla/index.html\n",
      "By downloading and using the CUDA Toolkit conda packages, you accept the terms and conditions of the CUDA End User License Agreement (EULA): https://docs.nvidia.com/cuda/eula/index.html\n",
      "By downloading and using the cuDNN conda packages, you accept the terms and conditions of the NVIDIA cuDNN EULA -\n",
      "  https://docs.nvidia.com/deeplearning/cudnn/sla/index.html\n",
      "\n",
      "Linking openpyxl-3.1.2-py311h459d7ec_0\n",
      "Linking pandas-1.5.3-py311h2872171_1\n"
     ]
    },
    {
     "name": "stdout",
     "output_type": "stream",
     "text": [
      "Linking scipy-1.11.2-py311h64a7726_0\n",
      "Linking jaxlib-0.4.7-cuda112py311h7d292f2_200\n"
     ]
    },
    {
     "name": "stdout",
     "output_type": "stream",
     "text": [
      "Linking jax-0.4.8-pyhd8ed1ab_0\n"
     ]
    },
    {
     "name": "stdout",
     "output_type": "stream",
     "text": [
      "\n",
      "Transaction finished\n",
      "\n",
      "To activate this environment, use:\n",
      "\n",
      "    micromamba activate /home/serenity4/.julia/dev/benchmarks/Julia/notebooks/.CondaPkg/env\n",
      "\n",
      "Or to execute a single command in this environment, use:\n",
      "\n",
      "    micromamba run -p /home/serenity4/.julia/dev/benchmarks/Julia/notebooks/.CondaPkg/env mycommand\n",
      "\n"
     ]
    },
    {
     "name": "stderr",
     "output_type": "stream",
     "text": [
      "\u001b[32m\u001b[1m    CondaPkg \u001b[22m\u001b[39m\u001b[0mInstalling Pip packages\n"
     ]
    },
    {
     "name": "stderr",
     "output_type": "stream",
     "text": [
      "\u001b[32m\u001b[1m             \u001b[22m\u001b[39m│ \u001b[90m/home/serenity4/.julia/dev/benchmarks/Julia/notebooks/.CondaPkg/env/bin/pip\u001b[39m\n"
     ]
    },
    {
     "name": "stderr",
     "output_type": "stream",
     "text": [
      "\u001b[32m\u001b[1m             \u001b[22m\u001b[39m│ \u001b[90minstall\u001b[39m\n"
     ]
    },
    {
     "name": "stderr",
     "output_type": "stream",
     "text": [
      "\u001b[32m\u001b[1m             \u001b[22m\u001b[39m│ \u001b[90mlifelib\u001b[39m\n"
     ]
    },
    {
     "name": "stderr",
     "output_type": "stream",
     "text": [
      "\u001b[32m\u001b[1m             \u001b[22m\u001b[39m└ \u001b[90mpymort\u001b[39m\n"
     ]
    },
    {
     "name": "stdout",
     "output_type": "stream",
     "text": [
      "Collecting lifelib\n",
      "  Obtaining dependency information for lifelib from https://files.pythonhosted.org/packages/07/c7/058387eb5c9b0bc18ab9acf6d9bc018623488a05542bbecffe5f83d09f29/lifelib-0.9.2-py3-none-any.whl.metadata\n",
      "  Using cached lifelib-0.9.2-py3-none-any.whl.metadata (2.8 kB)\n",
      "Collecting pymort\n"
     ]
    },
    {
     "name": "stdout",
     "output_type": "stream",
     "text": [
      "  Using cached pymort-1.0.0-py3-none-any.whl (11.7 MB)\n",
      "Requirement already satisfied: modelx>=0.12.1 in ./.CondaPkg/env/lib/python3.11/site-packages (from lifelib) (0.21.0)\n",
      "Requirement already satisfied: pandas<2.0.0,>=1.3.4 in ./.CondaPkg/env/lib/python3.11/site-packages (from pymort) (1.5.3)\n",
      "Requirement already satisfied: networkx>=2.0 in ./.CondaPkg/env/lib/python3.11/site-packages (from modelx>=0.12.1->lifelib) (3.1)\n",
      "Requirement already satisfied: asttokens in /home/serenity4/.local/lib/python3.11/site-packages (from modelx>=0.12.1->lifelib) (2.2.1)\n",
      "Requirement already satisfied: python-dateutil>=2.8.1 in ./.CondaPkg/env/lib/python3.11/site-packages (from pandas<2.0.0,>=1.3.4->pymort) (2.8.2)\n",
      "Requirement already satisfied: pytz>=2020.1 in ./.CondaPkg/env/lib/python3.11/site-packages (from pandas<2.0.0,>=1.3.4->pymort) (2023.3)\n",
      "Requirement already satisfied: numpy>=1.21.0 in ./.CondaPkg/env/lib/python3.11/site-packages (from pandas<2.0.0,>=1.3.4->pymort) (1.24.2)\n",
      "Requirement already satisfied: six>=1.5 in ./.CondaPkg/env/lib/python3.11/site-packages (from python-dateutil>=2.8.1->pandas<2.0.0,>=1.3.4->pymort) (1.16.0)\n",
      "Using cached lifelib-0.9.2-py3-none-any.whl (16.5 MB)\n"
     ]
    },
    {
     "name": "stdout",
     "output_type": "stream",
     "text": [
      "Installing collected packages: pymort, lifelib\n"
     ]
    },
    {
     "name": "stdout",
     "output_type": "stream",
     "text": [
      "Successfully installed lifelib-0.9.2 pymort-1.0.0\n"
     ]
    },
    {
     "data": {
      "text/plain": [
       "read_savings_model"
      ]
     },
     "metadata": {},
     "output_type": "display_data"
    }
   ],
   "source": [
    "using LifeSimulator, GLMakie, BenchmarkTools, PythonCall, Accessors, Dates\n",
    "GLMakie.activate!(inline = true)\n",
    "const LS = LifeSimulator\n",
    "include(\"../read_model.jl\")"
   ]
  },
  {
   "cell_type": "code",
   "execution_count": 2,
   "metadata": {},
   "outputs": [],
   "source": [
    "model = LifelibBasiclife()\n",
    "sizes = [10, 100, 1_000, 10_000]\n",
    "files = \"basic_term/\" .* [\"model_point_table_10.csv\", \"model_point_table_100.csv\", \"model_point_table_1K.csv\", \"model_point_table_10K.csv\"]\n",
    "iterative_timings = Float64[]\n",
    "memoized_timings = Float64[]\n",
    "for file in files\n",
    "  policies = policies_from_csv(file)\n",
    "\n",
    "  push!(iterative_timings, minimum(@benchmark CashFlow(Simulation($model, $policies), $(ntimesteps(model)))).time * 1e-9)\n",
    "\n",
    "  set_basic_term_policies!(policies)\n",
    "  push!(memoized_timings, minimum(@benchmark begin\n",
    "    empty_memoization_caches!()\n",
    "    sum(LS.pv_net_cf())\n",
    "  end).time * 1e-9)\n",
    "end"
   ]
  },
  {
   "cell_type": "code",
   "execution_count": 3,
   "metadata": {},
   "outputs": [
    {
     "data": {
      "image/png": "[encoded data removed]"
     },
     "metadata": {},
     "output_type": "display_data"
    }
   ],
   "source": [
    "colors = Makie.wong_colors()\n",
    "fig = Figure(; resolution = (1000, 300))\n",
    "ax = Axis(fig[1, 1]; title = \"Actuarial benchmarks - Term life models\", xlabel = \"Number of policy sets\", ylabel = \"Time (s)\", xscale = log10, yscale = log10)\n",
    "l1 = lines!(ax, sizes, iterative_timings; color = colors[1])\n",
    "l2 = lines!(ax, sizes, memoized_timings; color = colors[2])\n",
    "s1 = scatter!(ax, sizes, iterative_timings; color = colors[1], marker = :x)\n",
    "s2 = scatter!(ax, sizes, memoized_timings; color = colors[2], marker = :x)\n",
    "Legend(fig[1, 2], [[l1, s1], [l2, s2]], [\"Iterative (Julia)\", \"Memoized (Julia)\"])\n",
    "fig"
   ]
  },
  {
   "cell_type": "code",
   "execution_count": 4,
   "metadata": {},
   "outputs": [],
   "source": [
    "!@isdefined(proj) && (proj = read_savings_model())\n",
    "proj.scen_size = 1\n",
    "sizes = [9, 100, 1_000, 10_000, 100_000]\n",
    "files = \"savings/\" .* [\"model_point_table_9.csv\", \"model_point_table_100.csv\", \"model_point_table_1K.csv\", \"model_point_table_10K.csv\", \"model_point_table_100K.csv\"]\n",
    "julia_timings = Float64[]\n",
    "python_timings = Float64[]\n",
    "timeit = pyimport(\"timeit\")\n",
    "for (i, file) in enumerate(files)\n",
    "  trials = Int(min(50, 3e5 ÷ sizes[i]))\n",
    "  policies = policies_from_csv(file)\n",
    "\n",
    "  # lifelib will always simulate until the largest policy term, so we make sure we have no policies beyond\n",
    "  # a desired simulation end (e.g. 30 years) and at least one policy reaching such a term.\n",
    "  # In this way, timesteps are consistent across evaluations with different numbers of policies.\n",
    "  policies .= map(set -> @set(set.policy.issued_at = Month(0)), policies)\n",
    "  policies .= map(set -> @set(set.policy.term = min(set.policy.term, Year(20))), policies)\n",
    "  set = policies[1]; policies[1] = @set set.policy.term = Year(20)\n",
    "\n",
    "  use_policies!(proj, policies)\n",
    "  @assert ntimesteps(proj) == 241\n",
    "\n",
    "  # `timeit` returns the sum of timings, so we use average timings instead of minimum timings.\n",
    "\n",
    "  push!(julia_timings, mean(@benchmark CashFlow(sim, n) setup = begin\n",
    "    policies = policies_from_csv(proj)\n",
    "    n = ntimesteps(proj)\n",
    "    model = LifelibSavings(investment_rates = investment_rate(proj))\n",
    "    sim = Simulation(model, policies)\n",
    "  end).time * 1e-9)\n",
    "\n",
    "  push!(python_timings, pyconvert(Float64, timeit.timeit(\"proj.clear_cache = 1; proj.pv_net_cf().sum()\"; globals = pydict(; proj), number = trials)) / trials)\n",
    "end"
   ]
  },
  {
   "cell_type": "code",
   "execution_count": 5,
   "metadata": {},
   "outputs": [
    {
     "data": {
      "image/png": "[encoded data removed]"
     },
     "metadata": {},
     "output_type": "display_data"
    }
   ],
   "source": [
    "colors = Makie.wong_colors()\n",
    "fig = Figure(; resolution = (1000, 300))\n",
    "ax = Axis(fig[1, 1]; title = \"Actuarial benchmarks - Universal life models\", xlabel = \"Number of policy sets\", ylabel = \"Time (s)\", xscale = log10, yscale = log10)\n",
    "l1 = lines!(ax, sizes, julia_timings; color = colors[1])\n",
    "l2 = lines!(ax, sizes, python_timings; color = colors[2])\n",
    "s1 = scatter!(ax, sizes, julia_timings; color = colors[1], marker = :x)\n",
    "s2 = scatter!(ax, sizes, python_timings; color = colors[2], marker = :x)\n",
    "Legend(fig[1, 2], [[l1, s1], [l2, s2]], [\"Iterative (Julia)\", \"Memoized (Python)\"])\n",
    "fig"
   ]
  },
  {
   "cell_type": "code",
   "execution_count": 6,
   "metadata": {},
   "outputs": [],
   "source": []
  }
 ],
 "metadata": {
  "kernelspec": {
   "display_name": "Julia 1.11.0-DEV",
   "language": "julia",
   "name": "julia-1.11"
  },
  "language_info": {
   "file_extension": ".jl",
   "mimetype": "application/julia",
   "name": "julia",
   "version": "1.11.0-DEV"
  },
  "orig_nbformat": 4
 },
 "nbformat": 4,
 "nbformat_minor": 2
}
